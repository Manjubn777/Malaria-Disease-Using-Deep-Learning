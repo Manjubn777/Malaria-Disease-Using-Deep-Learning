{
  "nbformat": 4,
  "nbformat_minor": 0,
  "metadata": {
    "colab": {
      "name": "Malaria Disease Using Deep Learning.ipynb",
      "provenance": [],
      "collapsed_sections": []
    },
    "kernelspec": {
      "name": "python3",
      "display_name": "Python 3"
    },
    "accelerator": "GPU"
  },
  "cells": [
    {
      "cell_type": "code",
      "metadata": {
        "id": "B3QHNkOww9TW"
      },
      "source": [
        "\n",
        "# import the libraries as shown below\n",
        "\n",
        "from tensorflow.keras.layers import Input, Lambda, Dense, Flatten,Conv2D\n",
        "from tensorflow.keras.models import Model\n",
        "from tensorflow.keras.applications.vgg19 import VGG19\n",
        "from tensorflow.keras.applications.resnet50 import preprocess_input\n",
        "from tensorflow.keras.preprocessing import image\n",
        "from tensorflow.keras.preprocessing.image import ImageDataGenerator,load_img\n",
        "from tensorflow.keras.models import Sequential\n",
        "import numpy as np\n",
        "from glob import glob\n",
        "import matplotlib.pyplot as plt"
      ],
      "execution_count": 1,
      "outputs": []
    },
    {
      "cell_type": "code",
      "metadata": {
        "id": "4SPM3vn7xKzl"
      },
      "source": [
        "\n",
        "# re-size all the images to this\n",
        "IMAGE_SIZE = [224, 224]\n",
        "\n",
        "train_path = '/content/drive/MyDrive/DL_projects/Malaria detection/Dataset/Train'\n",
        "valid_path = '/content/drive/MyDrive/DL_projects/Malaria detection/Dataset/Test'"
      ],
      "execution_count": 2,
      "outputs": []
    },
    {
      "cell_type": "code",
      "metadata": {
        "id": "O7tKToErzkd9"
      },
      "source": [
        "# Import the Vgg 16 library as shown below and add preprocessing layer to the front of VGG\n",
        "# Here we will be using imagenet weights\n",
        "\n",
        "mobilnet = VGG19(input_shape=IMAGE_SIZE + [3], weights='imagenet', include_top=False)"
      ],
      "execution_count": 3,
      "outputs": []
    },
    {
      "cell_type": "code",
      "metadata": {
        "id": "f941hRnGzsgz"
      },
      "source": [
        "# don't train existing weights\n",
        "for layer in mobilnet.layers:\n",
        "    layer.trainable = False"
      ],
      "execution_count": 4,
      "outputs": []
    },
    {
      "cell_type": "code",
      "metadata": {
        "id": "ISbhbOlmz6H8"
      },
      "source": [
        "# useful for getting number of output classes\n",
        "folders = glob('/content/drive/MyDrive/DL_projects/Malaria detection/Dataset/Train/*')"
      ],
      "execution_count": 5,
      "outputs": []
    },
    {
      "cell_type": "code",
      "metadata": {
        "colab": {
          "base_uri": "https://localhost:8080/"
        },
        "id": "fdXrOaWrz96N",
        "outputId": "191c4f04-c00f-40fc-893e-bbdf464728fa"
      },
      "source": [
        "\n",
        "folders"
      ],
      "execution_count": 6,
      "outputs": [
        {
          "output_type": "execute_result",
          "data": {
            "text/plain": [
              "['/content/drive/MyDrive/DL_projects/Malaria detection/Dataset/Train/Parasite',\n",
              " '/content/drive/MyDrive/DL_projects/Malaria detection/Dataset/Train/Uninfected']"
            ]
          },
          "metadata": {
            "tags": []
          },
          "execution_count": 6
        }
      ]
    },
    {
      "cell_type": "code",
      "metadata": {
        "id": "E4_8lauu0Axd"
      },
      "source": [
        "x = Flatten()(mobilnet.output)"
      ],
      "execution_count": 7,
      "outputs": []
    },
    {
      "cell_type": "code",
      "metadata": {
        "id": "LLrQlWNj0SLD"
      },
      "source": [
        "prediction = Dense(len(folders), activation='softmax')(x)\n",
        "\n",
        "# create a model object\n",
        "model = Model(inputs=mobilnet.input, outputs=prediction)"
      ],
      "execution_count": 8,
      "outputs": []
    },
    {
      "cell_type": "code",
      "metadata": {
        "colab": {
          "base_uri": "https://localhost:8080/"
        },
        "id": "Dwc5ngLo0Vv5",
        "outputId": "82105f9a-bc3a-4d35-b6c3-c9db12751d60"
      },
      "source": [
        "# view the structure of the model\n",
        "model.summary()"
      ],
      "execution_count": 9,
      "outputs": [
        {
          "output_type": "stream",
          "text": [
            "Model: \"functional_1\"\n",
            "_________________________________________________________________\n",
            "Layer (type)                 Output Shape              Param #   \n",
            "=================================================================\n",
            "input_1 (InputLayer)         [(None, 224, 224, 3)]     0         \n",
            "_________________________________________________________________\n",
            "block1_conv1 (Conv2D)        (None, 224, 224, 64)      1792      \n",
            "_________________________________________________________________\n",
            "block1_conv2 (Conv2D)        (None, 224, 224, 64)      36928     \n",
            "_________________________________________________________________\n",
            "block1_pool (MaxPooling2D)   (None, 112, 112, 64)      0         \n",
            "_________________________________________________________________\n",
            "block2_conv1 (Conv2D)        (None, 112, 112, 128)     73856     \n",
            "_________________________________________________________________\n",
            "block2_conv2 (Conv2D)        (None, 112, 112, 128)     147584    \n",
            "_________________________________________________________________\n",
            "block2_pool (MaxPooling2D)   (None, 56, 56, 128)       0         \n",
            "_________________________________________________________________\n",
            "block3_conv1 (Conv2D)        (None, 56, 56, 256)       295168    \n",
            "_________________________________________________________________\n",
            "block3_conv2 (Conv2D)        (None, 56, 56, 256)       590080    \n",
            "_________________________________________________________________\n",
            "block3_conv3 (Conv2D)        (None, 56, 56, 256)       590080    \n",
            "_________________________________________________________________\n",
            "block3_conv4 (Conv2D)        (None, 56, 56, 256)       590080    \n",
            "_________________________________________________________________\n",
            "block3_pool (MaxPooling2D)   (None, 28, 28, 256)       0         \n",
            "_________________________________________________________________\n",
            "block4_conv1 (Conv2D)        (None, 28, 28, 512)       1180160   \n",
            "_________________________________________________________________\n",
            "block4_conv2 (Conv2D)        (None, 28, 28, 512)       2359808   \n",
            "_________________________________________________________________\n",
            "block4_conv3 (Conv2D)        (None, 28, 28, 512)       2359808   \n",
            "_________________________________________________________________\n",
            "block4_conv4 (Conv2D)        (None, 28, 28, 512)       2359808   \n",
            "_________________________________________________________________\n",
            "block4_pool (MaxPooling2D)   (None, 14, 14, 512)       0         \n",
            "_________________________________________________________________\n",
            "block5_conv1 (Conv2D)        (None, 14, 14, 512)       2359808   \n",
            "_________________________________________________________________\n",
            "block5_conv2 (Conv2D)        (None, 14, 14, 512)       2359808   \n",
            "_________________________________________________________________\n",
            "block5_conv3 (Conv2D)        (None, 14, 14, 512)       2359808   \n",
            "_________________________________________________________________\n",
            "block5_conv4 (Conv2D)        (None, 14, 14, 512)       2359808   \n",
            "_________________________________________________________________\n",
            "block5_pool (MaxPooling2D)   (None, 7, 7, 512)         0         \n",
            "_________________________________________________________________\n",
            "flatten (Flatten)            (None, 25088)             0         \n",
            "_________________________________________________________________\n",
            "dense (Dense)                (None, 2)                 50178     \n",
            "=================================================================\n",
            "Total params: 20,074,562\n",
            "Trainable params: 50,178\n",
            "Non-trainable params: 20,024,384\n",
            "_________________________________________________________________\n"
          ],
          "name": "stdout"
        }
      ]
    },
    {
      "cell_type": "code",
      "metadata": {
        "id": "nUOH2ClA0X5v"
      },
      "source": [
        "from tensorflow.keras.layers import MaxPooling2D"
      ],
      "execution_count": 10,
      "outputs": []
    },
    {
      "cell_type": "code",
      "metadata": {
        "colab": {
          "base_uri": "https://localhost:8080/"
        },
        "id": "MO10KBnS0fRX",
        "outputId": "9f650fdb-37e6-4430-bd6a-cbe65c371e21"
      },
      "source": [
        "### Create Model from scratch using CNN\n",
        "model=Sequential()\n",
        "model.add(Conv2D(filters=16,kernel_size=2,padding=\"same\",activation=\"relu\",input_shape=(224,224,3)))\n",
        "model.add(MaxPooling2D(pool_size=2))\n",
        "model.add(Conv2D(filters=32,kernel_size=2,padding=\"same\",activation =\"relu\"))\n",
        "model.add(MaxPooling2D(pool_size=2))\n",
        "model.add(Conv2D(filters=64,kernel_size=2,padding=\"same\",activation=\"relu\"))\n",
        "model.add(MaxPooling2D(pool_size=2))\n",
        "model.add(Flatten())\n",
        "model.add(Dense(500,activation=\"relu\"))\n",
        "model.add(Dense(2,activation=\"softmax\"))\n",
        "model.summary()"
      ],
      "execution_count": 11,
      "outputs": [
        {
          "output_type": "stream",
          "text": [
            "Model: \"sequential\"\n",
            "_________________________________________________________________\n",
            "Layer (type)                 Output Shape              Param #   \n",
            "=================================================================\n",
            "conv2d (Conv2D)              (None, 224, 224, 16)      208       \n",
            "_________________________________________________________________\n",
            "max_pooling2d (MaxPooling2D) (None, 112, 112, 16)      0         \n",
            "_________________________________________________________________\n",
            "conv2d_1 (Conv2D)            (None, 112, 112, 32)      2080      \n",
            "_________________________________________________________________\n",
            "max_pooling2d_1 (MaxPooling2 (None, 56, 56, 32)        0         \n",
            "_________________________________________________________________\n",
            "conv2d_2 (Conv2D)            (None, 56, 56, 64)        8256      \n",
            "_________________________________________________________________\n",
            "max_pooling2d_2 (MaxPooling2 (None, 28, 28, 64)        0         \n",
            "_________________________________________________________________\n",
            "flatten_1 (Flatten)          (None, 50176)             0         \n",
            "_________________________________________________________________\n",
            "dense_1 (Dense)              (None, 500)               25088500  \n",
            "_________________________________________________________________\n",
            "dense_2 (Dense)              (None, 2)                 1002      \n",
            "=================================================================\n",
            "Total params: 25,100,046\n",
            "Trainable params: 25,100,046\n",
            "Non-trainable params: 0\n",
            "_________________________________________________________________\n"
          ],
          "name": "stdout"
        }
      ]
    },
    {
      "cell_type": "code",
      "metadata": {
        "id": "HVj92weC0hR0"
      },
      "source": [
        "# tell the model what cost and optimization method to use\n",
        "model.compile(\n",
        "  loss='categorical_crossentropy',\n",
        "  optimizer='adam',\n",
        "  metrics=['accuracy']\n",
        ")"
      ],
      "execution_count": 12,
      "outputs": []
    },
    {
      "cell_type": "code",
      "metadata": {
        "id": "kPsyV-so0mv1"
      },
      "source": [
        "# Use the Image Data Generator to import the images from the dataset\n",
        "from tensorflow.keras.preprocessing.image import ImageDataGenerator\n",
        "\n",
        "train_datagen = ImageDataGenerator(rescale = 1./255,\n",
        "                                   shear_range = 0.2,\n",
        "                                   zoom_range = 0.2,\n",
        "                                   horizontal_flip = True)\n",
        "\n",
        "test_datagen = ImageDataGenerator(rescale = 1./255)"
      ],
      "execution_count": 13,
      "outputs": []
    },
    {
      "cell_type": "code",
      "metadata": {
        "colab": {
          "base_uri": "https://localhost:8080/"
        },
        "id": "YGtDkXo00pga",
        "outputId": "d7f5907d-87c1-41c2-ff2b-f6bc2b345ec5"
      },
      "source": [
        "# Make sure you provide the same target size as initialied for the image size\n",
        "training_set = train_datagen.flow_from_directory('/content/drive/MyDrive/DL_projects/Malaria detection/Dataset/Train',\n",
        "                                                 target_size = (224, 224),\n",
        "                                                 batch_size = 10,\n",
        "                                                 class_mode = 'categorical')"
      ],
      "execution_count": 14,
      "outputs": [
        {
          "output_type": "stream",
          "text": [
            "Found 416 images belonging to 2 classes.\n"
          ],
          "name": "stdout"
        }
      ]
    },
    {
      "cell_type": "code",
      "metadata": {
        "colab": {
          "base_uri": "https://localhost:8080/"
        },
        "id": "U5Bid3un0r-d",
        "outputId": "826f92e5-e4c7-454a-bd5f-6b219078c6e7"
      },
      "source": [
        "test_set = test_datagen.flow_from_directory('/content/drive/MyDrive/DL_projects/Malaria detection/Dataset/Test',\n",
        "                                            target_size = (224, 224),\n",
        "                                            batch_size = 10,\n",
        "                                            class_mode = 'categorical')"
      ],
      "execution_count": 15,
      "outputs": [
        {
          "output_type": "stream",
          "text": [
            "Found 134 images belonging to 2 classes.\n"
          ],
          "name": "stdout"
        }
      ]
    },
    {
      "cell_type": "code",
      "metadata": {
        "colab": {
          "base_uri": "https://localhost:8080/"
        },
        "id": "meM4hyHK01X0",
        "outputId": "c5f78398-6745-41ce-e379-ba1e63dd97f3"
      },
      "source": [
        "\n",
        "# fit the model\n",
        "# Run the cell. It will take some time to execute\n",
        "r = model.fit_generator(\n",
        "  training_set,\n",
        "  validation_data=test_set,\n",
        "  epochs=50,\n",
        "  steps_per_epoch=len(training_set),\n",
        "  validation_steps=len(test_set)\n",
        ")"
      ],
      "execution_count": 16,
      "outputs": [
        {
          "output_type": "stream",
          "text": [
            "WARNING:tensorflow:From <ipython-input-16-555a41c7b27f>:9: Model.fit_generator (from tensorflow.python.keras.engine.training) is deprecated and will be removed in a future version.\n",
            "Instructions for updating:\n",
            "Please use Model.fit, which supports generators.\n",
            "Epoch 1/50\n",
            "42/42 [==============================] - 5s 130ms/step - loss: 0.9413 - accuracy: 0.6250 - val_loss: 0.6994 - val_accuracy: 0.4776\n",
            "Epoch 2/50\n",
            "42/42 [==============================] - 5s 124ms/step - loss: 0.4395 - accuracy: 0.7788 - val_loss: 0.8344 - val_accuracy: 0.4627\n",
            "Epoch 3/50\n",
            "42/42 [==============================] - 5s 124ms/step - loss: 0.3429 - accuracy: 0.8582 - val_loss: 0.6167 - val_accuracy: 0.6493\n",
            "Epoch 4/50\n",
            "42/42 [==============================] - 5s 124ms/step - loss: 0.3078 - accuracy: 0.8966 - val_loss: 0.7906 - val_accuracy: 0.6194\n",
            "Epoch 5/50\n",
            "42/42 [==============================] - 5s 122ms/step - loss: 0.2459 - accuracy: 0.9038 - val_loss: 1.0452 - val_accuracy: 0.6493\n",
            "Epoch 6/50\n",
            "42/42 [==============================] - 5s 126ms/step - loss: 0.1724 - accuracy: 0.9351 - val_loss: 0.3542 - val_accuracy: 0.8433\n",
            "Epoch 7/50\n",
            "42/42 [==============================] - 5s 127ms/step - loss: 0.1765 - accuracy: 0.9519 - val_loss: 0.2252 - val_accuracy: 0.9104\n",
            "Epoch 8/50\n",
            "42/42 [==============================] - 5s 123ms/step - loss: 0.1536 - accuracy: 0.9519 - val_loss: 0.8455 - val_accuracy: 0.6045\n",
            "Epoch 9/50\n",
            "42/42 [==============================] - 5s 122ms/step - loss: 0.2482 - accuracy: 0.9111 - val_loss: 0.4382 - val_accuracy: 0.7985\n",
            "Epoch 10/50\n",
            "42/42 [==============================] - 5s 125ms/step - loss: 0.1117 - accuracy: 0.9663 - val_loss: 0.2688 - val_accuracy: 0.8955\n",
            "Epoch 11/50\n",
            "42/42 [==============================] - 5s 126ms/step - loss: 0.1664 - accuracy: 0.9519 - val_loss: 0.6159 - val_accuracy: 0.6418\n",
            "Epoch 12/50\n",
            "42/42 [==============================] - 5s 125ms/step - loss: 0.3149 - accuracy: 0.8894 - val_loss: 0.4935 - val_accuracy: 0.7537\n",
            "Epoch 13/50\n",
            "42/42 [==============================] - 5s 128ms/step - loss: 0.1439 - accuracy: 0.9495 - val_loss: 0.1635 - val_accuracy: 0.9179\n",
            "Epoch 14/50\n",
            "42/42 [==============================] - 5s 130ms/step - loss: 0.0751 - accuracy: 0.9760 - val_loss: 0.3901 - val_accuracy: 0.8955\n",
            "Epoch 15/50\n",
            "42/42 [==============================] - 5s 129ms/step - loss: 0.1206 - accuracy: 0.9663 - val_loss: 1.1581 - val_accuracy: 0.7836\n",
            "Epoch 16/50\n",
            "42/42 [==============================] - 5s 124ms/step - loss: 0.2184 - accuracy: 0.9327 - val_loss: 0.3747 - val_accuracy: 0.8657\n",
            "Epoch 17/50\n",
            "42/42 [==============================] - 5s 123ms/step - loss: 0.1134 - accuracy: 0.9663 - val_loss: 0.1425 - val_accuracy: 0.9328\n",
            "Epoch 18/50\n",
            "42/42 [==============================] - 5s 122ms/step - loss: 0.0405 - accuracy: 0.9880 - val_loss: 0.2654 - val_accuracy: 0.9254\n",
            "Epoch 19/50\n",
            "42/42 [==============================] - 5s 124ms/step - loss: 0.0822 - accuracy: 0.9784 - val_loss: 0.1714 - val_accuracy: 0.9328\n",
            "Epoch 20/50\n",
            "42/42 [==============================] - 5s 124ms/step - loss: 0.0390 - accuracy: 0.9952 - val_loss: 0.2842 - val_accuracy: 0.9328\n",
            "Epoch 21/50\n",
            "42/42 [==============================] - 5s 123ms/step - loss: 0.2275 - accuracy: 0.9447 - val_loss: 0.3952 - val_accuracy: 0.8284\n",
            "Epoch 22/50\n",
            "42/42 [==============================] - 5s 123ms/step - loss: 0.1630 - accuracy: 0.9495 - val_loss: 0.3239 - val_accuracy: 0.8731\n",
            "Epoch 23/50\n",
            "42/42 [==============================] - 5s 124ms/step - loss: 0.0687 - accuracy: 0.9808 - val_loss: 0.1727 - val_accuracy: 0.9403\n",
            "Epoch 24/50\n",
            "42/42 [==============================] - 5s 123ms/step - loss: 0.0333 - accuracy: 0.9904 - val_loss: 0.1945 - val_accuracy: 0.9478\n",
            "Epoch 25/50\n",
            "42/42 [==============================] - 5s 123ms/step - loss: 0.1124 - accuracy: 0.9736 - val_loss: 0.2318 - val_accuracy: 0.9030\n",
            "Epoch 26/50\n",
            "42/42 [==============================] - 5s 124ms/step - loss: 0.0385 - accuracy: 0.9904 - val_loss: 0.2848 - val_accuracy: 0.9254\n",
            "Epoch 27/50\n",
            "42/42 [==============================] - 5s 125ms/step - loss: 0.0153 - accuracy: 0.9976 - val_loss: 0.3695 - val_accuracy: 0.9030\n",
            "Epoch 28/50\n",
            "42/42 [==============================] - 5s 122ms/step - loss: 0.0894 - accuracy: 0.9784 - val_loss: 0.2644 - val_accuracy: 0.9030\n",
            "Epoch 29/50\n",
            "42/42 [==============================] - 5s 123ms/step - loss: 0.2145 - accuracy: 0.9351 - val_loss: 0.3015 - val_accuracy: 0.8806\n",
            "Epoch 30/50\n",
            "42/42 [==============================] - 5s 124ms/step - loss: 0.1165 - accuracy: 0.9663 - val_loss: 0.1885 - val_accuracy: 0.9328\n",
            "Epoch 31/50\n",
            "42/42 [==============================] - 5s 124ms/step - loss: 0.0618 - accuracy: 0.9808 - val_loss: 0.4787 - val_accuracy: 0.8806\n",
            "Epoch 32/50\n",
            "42/42 [==============================] - 5s 124ms/step - loss: 0.0625 - accuracy: 0.9856 - val_loss: 0.1513 - val_accuracy: 0.9403\n",
            "Epoch 33/50\n",
            "42/42 [==============================] - 5s 125ms/step - loss: 0.0659 - accuracy: 0.9760 - val_loss: 0.1994 - val_accuracy: 0.9328\n",
            "Epoch 34/50\n",
            "42/42 [==============================] - 5s 123ms/step - loss: 0.0275 - accuracy: 0.9976 - val_loss: 0.2240 - val_accuracy: 0.9403\n",
            "Epoch 35/50\n",
            "42/42 [==============================] - 5s 122ms/step - loss: 0.0164 - accuracy: 0.9976 - val_loss: 0.1964 - val_accuracy: 0.9403\n",
            "Epoch 36/50\n",
            "42/42 [==============================] - 5s 120ms/step - loss: 0.0236 - accuracy: 0.9952 - val_loss: 0.1499 - val_accuracy: 0.9403\n",
            "Epoch 37/50\n",
            "42/42 [==============================] - 5s 124ms/step - loss: 0.0173 - accuracy: 0.9976 - val_loss: 0.2287 - val_accuracy: 0.9403\n",
            "Epoch 38/50\n",
            "42/42 [==============================] - 5s 123ms/step - loss: 0.0217 - accuracy: 0.9952 - val_loss: 0.1872 - val_accuracy: 0.9403\n",
            "Epoch 39/50\n",
            "42/42 [==============================] - 5s 124ms/step - loss: 0.0153 - accuracy: 0.9976 - val_loss: 0.1850 - val_accuracy: 0.9403\n",
            "Epoch 40/50\n",
            "42/42 [==============================] - 5s 125ms/step - loss: 0.0179 - accuracy: 0.9976 - val_loss: 0.2850 - val_accuracy: 0.9328\n",
            "Epoch 41/50\n",
            "42/42 [==============================] - 5s 125ms/step - loss: 0.0211 - accuracy: 0.9976 - val_loss: 0.1817 - val_accuracy: 0.9403\n",
            "Epoch 42/50\n",
            "42/42 [==============================] - 5s 124ms/step - loss: 0.0179 - accuracy: 0.9976 - val_loss: 0.2687 - val_accuracy: 0.9328\n",
            "Epoch 43/50\n",
            "42/42 [==============================] - 5s 122ms/step - loss: 0.0173 - accuracy: 0.9976 - val_loss: 0.1752 - val_accuracy: 0.9552\n",
            "Epoch 44/50\n",
            "42/42 [==============================] - 5s 122ms/step - loss: 0.0164 - accuracy: 0.9976 - val_loss: 0.2251 - val_accuracy: 0.9403\n",
            "Epoch 45/50\n",
            "42/42 [==============================] - 5s 123ms/step - loss: 0.0162 - accuracy: 0.9976 - val_loss: 0.3050 - val_accuracy: 0.9328\n",
            "Epoch 46/50\n",
            "42/42 [==============================] - 5s 122ms/step - loss: 0.0248 - accuracy: 0.9928 - val_loss: 0.1646 - val_accuracy: 0.9478\n",
            "Epoch 47/50\n",
            "42/42 [==============================] - 5s 123ms/step - loss: 0.0326 - accuracy: 0.9928 - val_loss: 0.6662 - val_accuracy: 0.9254\n",
            "Epoch 48/50\n",
            "42/42 [==============================] - 5s 119ms/step - loss: 0.5015 - accuracy: 0.8341 - val_loss: 0.7242 - val_accuracy: 0.5299\n",
            "Epoch 49/50\n",
            "42/42 [==============================] - 5s 123ms/step - loss: 0.2834 - accuracy: 0.8918 - val_loss: 0.5833 - val_accuracy: 0.7463\n",
            "Epoch 50/50\n",
            "42/42 [==============================] - 5s 124ms/step - loss: 0.1974 - accuracy: 0.9279 - val_loss: 0.4728 - val_accuracy: 0.6418\n"
          ],
          "name": "stdout"
        }
      ]
    },
    {
      "cell_type": "code",
      "metadata": {
        "colab": {
          "base_uri": "https://localhost:8080/",
          "height": 532
        },
        "id": "iBnwUQhI08lI",
        "outputId": "4876114b-ae75-40a7-ec61-ec72ba4d3542"
      },
      "source": [
        "# plot the loss\n",
        "plt.plot(r.history['loss'], label='train loss')\n",
        "plt.plot(r.history['val_loss'], label='val loss')\n",
        "plt.legend()\n",
        "plt.show()\n",
        "plt.savefig('LossVal_loss')\n",
        "\n",
        "# plot the accuracy\n",
        "plt.plot(r.history['accuracy'], label='train acc')\n",
        "plt.plot(r.history['val_accuracy'], label='val acc')\n",
        "plt.legend()\n",
        "plt.show()\n",
        "plt.savefig('AccVal_acc')"
      ],
      "execution_count": 23,
      "outputs": [
        {
          "output_type": "display_data",
          "data": {
            "image/png": "[encoded data removed]",
            "text/plain": [
              "<Figure size 432x288 with 1 Axes>"
            ]
          },
          "metadata": {
            "tags": [],
            "needs_background": "light"
          }
        },
        {
          "output_type": "display_data",
          "data": {
            "image/png": "[encoded data removed]",
            "text/plain": [
              "<Figure size 432x288 with 1 Axes>"
            ]
          },
          "metadata": {
            "tags": [],
            "needs_background": "light"
          }
        },
        {
          "output_type": "display_data",
          "data": {
            "text/plain": [
              "<Figure size 432x288 with 0 Axes>"
            ]
          },
          "metadata": {
            "tags": []
          }
        }
      ]
    },
    {
      "cell_type": "code",
      "metadata": {
        "id": "-YUHYx561MYd"
      },
      "source": [
        "# save it as a h5 file\n",
        "\n",
        "\n",
        "from tensorflow.keras.models import load_model\n",
        "\n",
        "model.save('model_vgg19.h5')"
      ],
      "execution_count": 24,
      "outputs": []
    },
    {
      "cell_type": "code",
      "metadata": {
        "id": "TNfUrPQ71Mah"
      },
      "source": [
        "\n",
        "y_pred = model.predict(test_set)"
      ],
      "execution_count": 25,
      "outputs": []
    },
    {
      "cell_type": "code",
      "metadata": {
        "id": "HojVyY9n1Mce"
      },
      "source": [
        "\n",
        "import numpy as np\n",
        "y_pred = np.argmax(y_pred, axis=1)"
      ],
      "execution_count": 26,
      "outputs": []
    },
    {
      "cell_type": "code",
      "metadata": {
        "id": "ltFxH6451XvK"
      },
      "source": [
        "from tensorflow.keras.models import load_model\n",
        "from tensorflow.keras.preprocessing import image"
      ],
      "execution_count": 27,
      "outputs": []
    },
    {
      "cell_type": "code",
      "metadata": {
        "id": "pMtAz1dQ1fqW"
      },
      "source": [
        "model=load_model('model_vgg19.h5')"
      ],
      "execution_count": 28,
      "outputs": []
    },
    {
      "cell_type": "code",
      "metadata": {
        "id": "CRt9szYN1fs0"
      },
      "source": [
        "img=image.load_img('/content/drive/MyDrive/DL_projects/Malaria detection/Dataset/Test/Parasite/C39P4thinF_original_IMG_20150622_105554_cell_14.png',target_size=(224,224))"
      ],
      "execution_count": 46,
      "outputs": []
    },
    {
      "cell_type": "code",
      "metadata": {
        "colab": {
          "base_uri": "https://localhost:8080/"
        },
        "id": "rm64zYvmOC1w",
        "outputId": "bafc7591-f84d-41ae-ee72-7a089d07e208"
      },
      "source": [
        "\n",
        "x=image.img_to_array(img)\n",
        "x"
      ],
      "execution_count": 47,
      "outputs": [
        {
          "output_type": "execute_result",
          "data": {
            "text/plain": [
              "array([[[0., 0., 0.],\n",
              "        [0., 0., 0.],\n",
              "        [0., 0., 0.],\n",
              "        ...,\n",
              "        [0., 0., 0.],\n",
              "        [0., 0., 0.],\n",
              "        [0., 0., 0.]],\n",
              "\n",
              "       [[0., 0., 0.],\n",
              "        [0., 0., 0.],\n",
              "        [0., 0., 0.],\n",
              "        ...,\n",
              "        [0., 0., 0.],\n",
              "        [0., 0., 0.],\n",
              "        [0., 0., 0.]],\n",
              "\n",
              "       [[0., 0., 0.],\n",
              "        [0., 0., 0.],\n",
              "        [0., 0., 0.],\n",
              "        ...,\n",
              "        [0., 0., 0.],\n",
              "        [0., 0., 0.],\n",
              "        [0., 0., 0.]],\n",
              "\n",
              "       ...,\n",
              "\n",
              "       [[0., 0., 0.],\n",
              "        [0., 0., 0.],\n",
              "        [0., 0., 0.],\n",
              "        ...,\n",
              "        [0., 0., 0.],\n",
              "        [0., 0., 0.],\n",
              "        [0., 0., 0.]],\n",
              "\n",
              "       [[0., 0., 0.],\n",
              "        [0., 0., 0.],\n",
              "        [0., 0., 0.],\n",
              "        ...,\n",
              "        [0., 0., 0.],\n",
              "        [0., 0., 0.],\n",
              "        [0., 0., 0.]],\n",
              "\n",
              "       [[0., 0., 0.],\n",
              "        [0., 0., 0.],\n",
              "        [0., 0., 0.],\n",
              "        ...,\n",
              "        [0., 0., 0.],\n",
              "        [0., 0., 0.],\n",
              "        [0., 0., 0.]]], dtype=float32)"
            ]
          },
          "metadata": {
            "tags": []
          },
          "execution_count": 47
        }
      ]
    },
    {
      "cell_type": "code",
      "metadata": {
        "colab": {
          "base_uri": "https://localhost:8080/"
        },
        "id": "b_qdyeRxORFs",
        "outputId": "6a3606bd-e84d-428a-ed15-ff27125f5192"
      },
      "source": [
        "x.shape"
      ],
      "execution_count": 48,
      "outputs": [
        {
          "output_type": "execute_result",
          "data": {
            "text/plain": [
              "(224, 224, 3)"
            ]
          },
          "metadata": {
            "tags": []
          },
          "execution_count": 48
        }
      ]
    },
    {
      "cell_type": "code",
      "metadata": {
        "id": "-sUI39VZOWbr"
      },
      "source": [
        "\n",
        "x=x/255"
      ],
      "execution_count": 49,
      "outputs": []
    },
    {
      "cell_type": "code",
      "metadata": {
        "colab": {
          "base_uri": "https://localhost:8080/"
        },
        "id": "uyhu0XT0OYcT",
        "outputId": "fbd11529-35b6-482e-938c-1232b01bd337"
      },
      "source": [
        "x=np.expand_dims(x,axis=0)\n",
        "img_data=preprocess_input(x)\n",
        "img_data.shape"
      ],
      "execution_count": 50,
      "outputs": [
        {
          "output_type": "execute_result",
          "data": {
            "text/plain": [
              "(1, 224, 224, 3)"
            ]
          },
          "metadata": {
            "tags": []
          },
          "execution_count": 50
        }
      ]
    },
    {
      "cell_type": "code",
      "metadata": {
        "colab": {
          "base_uri": "https://localhost:8080/"
        },
        "id": "9k4XphdgObro",
        "outputId": "d00394e9-0de4-432e-fe79-e08e27235e28"
      },
      "source": [
        "model.predict(img_data)"
      ],
      "execution_count": 51,
      "outputs": [
        {
          "output_type": "execute_result",
          "data": {
            "text/plain": [
              "array([[1., 0.]], dtype=float32)"
            ]
          },
          "metadata": {
            "tags": []
          },
          "execution_count": 51
        }
      ]
    },
    {
      "cell_type": "code",
      "metadata": {
        "id": "KqFxVIbROfk7"
      },
      "source": [
        "\n",
        "a=np.argmax(model.predict(img_data), axis=1)"
      ],
      "execution_count": 52,
      "outputs": []
    },
    {
      "cell_type": "code",
      "metadata": {
        "colab": {
          "base_uri": "https://localhost:8080/"
        },
        "id": "8eLudYz_OiyH",
        "outputId": "e254b635-9d94-44b0-b42c-54c01ac7997a"
      },
      "source": [
        "if(a==1):\n",
        "    print(\"Uninfected\")\n",
        "else:\n",
        "    print(\"Infected\")\n",
        "    "
      ],
      "execution_count": 53,
      "outputs": [
        {
          "output_type": "stream",
          "text": [
            "Infected\n"
          ],
          "name": "stdout"
        }
      ]
    },
    {
      "cell_type": "code",
      "metadata": {
        "id": "ogXDsgcuOlrF"
      },
      "source": [
        ""
      ],
      "execution_count": 45,
      "outputs": []
    }
  ]
}