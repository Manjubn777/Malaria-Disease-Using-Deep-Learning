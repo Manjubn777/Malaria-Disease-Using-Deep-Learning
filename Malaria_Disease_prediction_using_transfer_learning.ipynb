{
  "nbformat": 4,
  "nbformat_minor": 0,
  "metadata": {
    "kernelspec": {
      "display_name": "Python 3",
      "language": "python",
      "name": "python3"
    },
    "language_info": {
      "codemirror_mode": {
        "name": "ipython",
        "version": 3
      },
      "file_extension": ".py",
      "mimetype": "text/x-python",
      "name": "python",
      "nbconvert_exporter": "python",
      "pygments_lexer": "ipython3",
      "version": "3.7.4"
    },
    "colab": {
      "name": "Malaria Disease prediction using transfer learning",
      "provenance": [],
      "collapsed_sections": [],
      "toc_visible": true
    },
    "accelerator": "GPU"
  },
  "cells": [
    {
      "cell_type": "markdown",
      "metadata": {
        "id": "zVUEcJCNzZHz"
      },
      "source": [
        "## Creating CNN Using Scratch And Transfer Learning"
      ]
    },
    {
      "cell_type": "markdown",
      "metadata": {
        "id": "Rd6OPXoPzZIM"
      },
      "source": [
        "Please download the dataset from the below url"
      ]
    },
    {
      "cell_type": "code",
      "metadata": {
        "colab": {
          "base_uri": "https://localhost:8080/"
        },
        "id": "Ncxc1pqr4F2X",
        "outputId": "35ed1fb2-1c55-4379-d600-b153af637d84"
      },
      "source": [
        "from google.colab import drive\n",
        "drive.mount('/content/drive')"
      ],
      "execution_count": 2,
      "outputs": [
        {
          "output_type": "stream",
          "text": [
            "Mounted at /content/drive\n"
          ],
          "name": "stdout"
        }
      ]
    },
    {
      "cell_type": "code",
      "metadata": {
        "id": "wHBnd6VizZIO"
      },
      "source": [
        "# import the libraries as shown below\n",
        "\n",
        "from tensorflow.keras.layers import Input, Lambda, Dense, Flatten,Conv2D\n",
        "from tensorflow.keras.models import Model\n",
        "from tensorflow.keras.applications.vgg19 import VGG19\n",
        "from tensorflow.keras.applications.resnet50 import preprocess_input\n",
        "from tensorflow.keras.preprocessing import image\n",
        "from tensorflow.keras.preprocessing.image import ImageDataGenerator,load_img\n",
        "from tensorflow.keras.models import Sequential\n",
        "import numpy as np\n",
        "from glob import glob\n",
        "import matplotlib.pyplot as plt"
      ],
      "execution_count": 3,
      "outputs": []
    },
    {
      "cell_type": "code",
      "metadata": {
        "id": "Wmu62RzSzZIR"
      },
      "source": [
        "# re-size all the images to this\n",
        "IMAGE_SIZE = [224, 224]\n",
        "\n",
        "train_path = '/content/drive/MyDrive/DL_projects/Malaria detection/Dataset/Train'\n",
        "valid_path = '/content/drive/MyDrive/DL_projects/Malaria detection/Dataset/Test'\n"
      ],
      "execution_count": 4,
      "outputs": []
    },
    {
      "cell_type": "code",
      "metadata": {
        "colab": {
          "base_uri": "https://localhost:8080/"
        },
        "id": "svy0hRNxzZIT",
        "outputId": "c16352d7-1bdb-4030-f424-70608e4f4026"
      },
      "source": [
        "# Import the Vgg 16 library as shown below and add preprocessing layer to the front of VGG\n",
        "# Here we will be using imagenet weights\n",
        "\n",
        "vgg19 = VGG19(input_shape=IMAGE_SIZE + [3], weights='imagenet', include_top=False)\n",
        "\n",
        "\n"
      ],
      "execution_count": 5,
      "outputs": [
        {
          "output_type": "stream",
          "text": [
            "Downloading data from https://storage.googleapis.com/tensorflow/keras-applications/vgg19/vgg19_weights_tf_dim_ordering_tf_kernels_notop.h5\n",
            "80142336/80134624 [==============================] - 0s 0us/step\n"
          ],
          "name": "stdout"
        }
      ]
    },
    {
      "cell_type": "code",
      "metadata": {
        "id": "B8yjQqM8zZIV"
      },
      "source": [
        "# don't train existing weights\n",
        "for layer in vgg19.layers:\n",
        "    layer.trainable = False"
      ],
      "execution_count": 6,
      "outputs": []
    },
    {
      "cell_type": "code",
      "metadata": {
        "id": "nPvIpNbezZIX"
      },
      "source": [
        "  # useful for getting number of output classes\n",
        "folders = glob('/content/drive/MyDrive/DL_projects/Malaria detection/Dataset/Train/*')"
      ],
      "execution_count": 7,
      "outputs": []
    },
    {
      "cell_type": "code",
      "metadata": {
        "colab": {
          "base_uri": "https://localhost:8080/"
        },
        "id": "e7duLssRzZIY",
        "outputId": "666e86d3-389e-4cb3-bb55-4136db0f398f"
      },
      "source": [
        "folders"
      ],
      "execution_count": 8,
      "outputs": [
        {
          "output_type": "execute_result",
          "data": {
            "text/plain": [
              "['/content/drive/MyDrive/DL_projects/Malaria detection/Dataset/Train/Parasite',\n",
              " '/content/drive/MyDrive/DL_projects/Malaria detection/Dataset/Train/Uninfected']"
            ]
          },
          "metadata": {
            "tags": []
          },
          "execution_count": 8
        }
      ]
    },
    {
      "cell_type": "code",
      "metadata": {
        "id": "Skc1NTJhzZIc"
      },
      "source": [
        "# our layers - you can add more if you want\n",
        "x = Flatten()(vgg19.output)"
      ],
      "execution_count": 9,
      "outputs": []
    },
    {
      "cell_type": "code",
      "metadata": {
        "id": "mpfD1B-izZId"
      },
      "source": [
        "#dding output layer \n",
        "prediction = Dense(len(folders), activation='softmax')(x)\n",
        "\n",
        "# create a model object\n",
        "model = Model(inputs=vgg19.input, outputs=prediction)"
      ],
      "execution_count": 10,
      "outputs": []
    },
    {
      "cell_type": "code",
      "metadata": {
        "colab": {
          "base_uri": "https://localhost:8080/"
        },
        "id": "g3kgnh8vzZIe",
        "outputId": "6d1344a8-8192-46d3-e606-489e138fce77"
      },
      "source": [
        "\n",
        "# view the structure of the model\n",
        "model.summary()\n"
      ],
      "execution_count": 11,
      "outputs": [
        {
          "output_type": "stream",
          "text": [
            "Model: \"model\"\n",
            "_________________________________________________________________\n",
            "Layer (type)                 Output Shape              Param #   \n",
            "=================================================================\n",
            "input_1 (InputLayer)         [(None, 224, 224, 3)]     0         \n",
            "_________________________________________________________________\n",
            "block1_conv1 (Conv2D)        (None, 224, 224, 64)      1792      \n",
            "_________________________________________________________________\n",
            "block1_conv2 (Conv2D)        (None, 224, 224, 64)      36928     \n",
            "_________________________________________________________________\n",
            "block1_pool (MaxPooling2D)   (None, 112, 112, 64)      0         \n",
            "_________________________________________________________________\n",
            "block2_conv1 (Conv2D)        (None, 112, 112, 128)     73856     \n",
            "_________________________________________________________________\n",
            "block2_conv2 (Conv2D)        (None, 112, 112, 128)     147584    \n",
            "_________________________________________________________________\n",
            "block2_pool (MaxPooling2D)   (None, 56, 56, 128)       0         \n",
            "_________________________________________________________________\n",
            "block3_conv1 (Conv2D)        (None, 56, 56, 256)       295168    \n",
            "_________________________________________________________________\n",
            "block3_conv2 (Conv2D)        (None, 56, 56, 256)       590080    \n",
            "_________________________________________________________________\n",
            "block3_conv3 (Conv2D)        (None, 56, 56, 256)       590080    \n",
            "_________________________________________________________________\n",
            "block3_conv4 (Conv2D)        (None, 56, 56, 256)       590080    \n",
            "_________________________________________________________________\n",
            "block3_pool (MaxPooling2D)   (None, 28, 28, 256)       0         \n",
            "_________________________________________________________________\n",
            "block4_conv1 (Conv2D)        (None, 28, 28, 512)       1180160   \n",
            "_________________________________________________________________\n",
            "block4_conv2 (Conv2D)        (None, 28, 28, 512)       2359808   \n",
            "_________________________________________________________________\n",
            "block4_conv3 (Conv2D)        (None, 28, 28, 512)       2359808   \n",
            "_________________________________________________________________\n",
            "block4_conv4 (Conv2D)        (None, 28, 28, 512)       2359808   \n",
            "_________________________________________________________________\n",
            "block4_pool (MaxPooling2D)   (None, 14, 14, 512)       0         \n",
            "_________________________________________________________________\n",
            "block5_conv1 (Conv2D)        (None, 14, 14, 512)       2359808   \n",
            "_________________________________________________________________\n",
            "block5_conv2 (Conv2D)        (None, 14, 14, 512)       2359808   \n",
            "_________________________________________________________________\n",
            "block5_conv3 (Conv2D)        (None, 14, 14, 512)       2359808   \n",
            "_________________________________________________________________\n",
            "block5_conv4 (Conv2D)        (None, 14, 14, 512)       2359808   \n",
            "_________________________________________________________________\n",
            "block5_pool (MaxPooling2D)   (None, 7, 7, 512)         0         \n",
            "_________________________________________________________________\n",
            "flatten (Flatten)            (None, 25088)             0         \n",
            "_________________________________________________________________\n",
            "dense (Dense)                (None, 2)                 50178     \n",
            "=================================================================\n",
            "Total params: 20,074,562\n",
            "Trainable params: 50,178\n",
            "Non-trainable params: 20,024,384\n",
            "_________________________________________________________________\n"
          ],
          "name": "stdout"
        }
      ]
    },
    {
      "cell_type": "code",
      "metadata": {
        "id": "-PHljoeDzZIj"
      },
      "source": [
        "# tell the model what cost and optimization method to use\n",
        "model.compile(\n",
        "  loss='categorical_crossentropy',\n",
        "  optimizer='adam',\n",
        "  metrics=['accuracy']\n",
        ")\n"
      ],
      "execution_count": 12,
      "outputs": []
    },
    {
      "cell_type": "code",
      "metadata": {
        "id": "AQ3QNYl0zZIl"
      },
      "source": [
        "# Use the Image Data Generator to import the images from the dataset\n",
        "from tensorflow.keras.preprocessing.image import ImageDataGenerator\n",
        "\n",
        "train_datagen = ImageDataGenerator(rescale = 1./255,\n",
        "                                   shear_range = 0.2,\n",
        "                                   zoom_range = 0.2,\n",
        "                                   horizontal_flip = True)\n",
        "\n",
        "test_datagen = ImageDataGenerator(rescale = 1./255)"
      ],
      "execution_count": 13,
      "outputs": []
    },
    {
      "cell_type": "code",
      "metadata": {
        "colab": {
          "base_uri": "https://localhost:8080/"
        },
        "id": "e714_mLSzZIm",
        "outputId": "160e5038-1e14-4566-8d6a-36a7a1f31703"
      },
      "source": [
        "# Make sure you provide the same target size as initialied for the image size\n",
        "training_set = train_datagen.flow_from_directory('/content/drive/MyDrive/DL_projects/Malaria detection/Dataset/Train',\n",
        "                                                 target_size = (224, 224),\n",
        "                                                 batch_size = 32,\n",
        "                                                 class_mode = 'categorical')"
      ],
      "execution_count": 14,
      "outputs": [
        {
          "output_type": "stream",
          "text": [
            "Found 416 images belonging to 2 classes.\n"
          ],
          "name": "stdout"
        }
      ]
    },
    {
      "cell_type": "code",
      "metadata": {
        "colab": {
          "base_uri": "https://localhost:8080/"
        },
        "id": "Nls3pd9uzZIn",
        "outputId": "4cb6a204-8f8f-462c-d6e8-703fda192d61"
      },
      "source": [
        "training_set"
      ],
      "execution_count": 15,
      "outputs": [
        {
          "output_type": "execute_result",
          "data": {
            "text/plain": [
              "<tensorflow.python.keras.preprocessing.image.DirectoryIterator at 0x7fcef851d290>"
            ]
          },
          "metadata": {
            "tags": []
          },
          "execution_count": 15
        }
      ]
    },
    {
      "cell_type": "code",
      "metadata": {
        "colab": {
          "base_uri": "https://localhost:8080/"
        },
        "id": "SvWYP359zZIp",
        "outputId": "21de0e1e-be7d-4370-adb6-e4a107a7168f"
      },
      "source": [
        "test_set = test_datagen.flow_from_directory('/content/drive/MyDrive/DL_projects/Malaria detection/Dataset/Test',\n",
        "                                            target_size = (224, 224),\n",
        "                                            batch_size = 32,\n",
        "                                            class_mode = 'categorical')"
      ],
      "execution_count": 16,
      "outputs": [
        {
          "output_type": "stream",
          "text": [
            "Found 134 images belonging to 2 classes.\n"
          ],
          "name": "stdout"
        }
      ]
    },
    {
      "cell_type": "code",
      "metadata": {
        "scrolled": true,
        "colab": {
          "base_uri": "https://localhost:8080/"
        },
        "id": "N0z86feNzZIr",
        "outputId": "43f87359-6392-4e9e-c2e6-c16e496f1615"
      },
      "source": [
        "# fit the model\n",
        "# Run the cell. It will take some time to execute\n",
        "r = model.fit_generator(\n",
        "  training_set,\n",
        "  validation_data=test_set,\n",
        "  epochs=50,\n",
        "  steps_per_epoch=len(training_set),\n",
        "  validation_steps=len(test_set)\n",
        ")"
      ],
      "execution_count": 17,
      "outputs": [
        {
          "output_type": "stream",
          "text": [
            "/usr/local/lib/python3.7/dist-packages/tensorflow/python/keras/engine/training.py:1844: UserWarning: `Model.fit_generator` is deprecated and will be removed in a future version. Please use `Model.fit`, which supports generators.\n",
            "  warnings.warn('`Model.fit_generator` is deprecated and '\n"
          ],
          "name": "stderr"
        },
        {
          "output_type": "stream",
          "text": [
            "Epoch 1/50\n",
            "13/13 [==============================] - 161s 10s/step - loss: 2.1695 - accuracy: 0.4635 - val_loss: 0.6082 - val_accuracy: 0.7015\n",
            "Epoch 2/50\n",
            "13/13 [==============================] - 6s 453ms/step - loss: 0.8617 - accuracy: 0.5701 - val_loss: 0.6908 - val_accuracy: 0.6791\n",
            "Epoch 3/50\n",
            "13/13 [==============================] - 6s 453ms/step - loss: 0.6755 - accuracy: 0.6447 - val_loss: 0.6991 - val_accuracy: 0.6194\n",
            "Epoch 4/50\n",
            "13/13 [==============================] - 6s 453ms/step - loss: 0.4998 - accuracy: 0.7632 - val_loss: 0.5098 - val_accuracy: 0.7612\n",
            "Epoch 5/50\n",
            "13/13 [==============================] - 6s 450ms/step - loss: 0.3992 - accuracy: 0.7919 - val_loss: 0.4569 - val_accuracy: 0.7090\n",
            "Epoch 6/50\n",
            "13/13 [==============================] - 6s 454ms/step - loss: 0.3309 - accuracy: 0.8548 - val_loss: 0.3890 - val_accuracy: 0.7910\n",
            "Epoch 7/50\n",
            "13/13 [==============================] - 6s 455ms/step - loss: 0.2838 - accuracy: 0.9011 - val_loss: 0.4168 - val_accuracy: 0.8209\n",
            "Epoch 8/50\n",
            "13/13 [==============================] - 6s 454ms/step - loss: 0.2439 - accuracy: 0.9294 - val_loss: 0.3701 - val_accuracy: 0.8134\n",
            "Epoch 9/50\n",
            "13/13 [==============================] - 6s 458ms/step - loss: 0.2436 - accuracy: 0.9194 - val_loss: 0.4953 - val_accuracy: 0.7463\n",
            "Epoch 10/50\n",
            "13/13 [==============================] - 6s 454ms/step - loss: 0.2674 - accuracy: 0.8883 - val_loss: 0.3344 - val_accuracy: 0.8358\n",
            "Epoch 11/50\n",
            "13/13 [==============================] - 6s 456ms/step - loss: 0.2084 - accuracy: 0.9338 - val_loss: 0.3444 - val_accuracy: 0.8731\n",
            "Epoch 12/50\n",
            "13/13 [==============================] - 6s 454ms/step - loss: 0.1806 - accuracy: 0.9486 - val_loss: 0.3246 - val_accuracy: 0.8955\n",
            "Epoch 13/50\n",
            "13/13 [==============================] - 6s 454ms/step - loss: 0.1996 - accuracy: 0.9339 - val_loss: 0.3601 - val_accuracy: 0.8358\n",
            "Epoch 14/50\n",
            "13/13 [==============================] - 6s 455ms/step - loss: 0.2117 - accuracy: 0.9203 - val_loss: 0.3035 - val_accuracy: 0.8806\n",
            "Epoch 15/50\n",
            "13/13 [==============================] - 6s 449ms/step - loss: 0.1912 - accuracy: 0.9365 - val_loss: 0.5153 - val_accuracy: 0.7313\n",
            "Epoch 16/50\n",
            "13/13 [==============================] - 6s 455ms/step - loss: 0.2550 - accuracy: 0.8936 - val_loss: 0.2919 - val_accuracy: 0.8806\n",
            "Epoch 17/50\n",
            "13/13 [==============================] - 6s 458ms/step - loss: 0.1597 - accuracy: 0.9545 - val_loss: 0.3262 - val_accuracy: 0.8657\n",
            "Epoch 18/50\n",
            "13/13 [==============================] - 6s 453ms/step - loss: 0.1553 - accuracy: 0.9625 - val_loss: 0.2905 - val_accuracy: 0.8955\n",
            "Epoch 19/50\n",
            "13/13 [==============================] - 6s 453ms/step - loss: 0.1810 - accuracy: 0.9535 - val_loss: 0.2669 - val_accuracy: 0.9030\n",
            "Epoch 20/50\n",
            "13/13 [==============================] - 6s 454ms/step - loss: 0.1781 - accuracy: 0.9373 - val_loss: 0.2949 - val_accuracy: 0.8881\n",
            "Epoch 21/50\n",
            "13/13 [==============================] - 6s 457ms/step - loss: 0.1277 - accuracy: 0.9634 - val_loss: 0.2759 - val_accuracy: 0.9104\n",
            "Epoch 22/50\n",
            "13/13 [==============================] - 6s 460ms/step - loss: 0.1402 - accuracy: 0.9675 - val_loss: 0.3464 - val_accuracy: 0.8284\n",
            "Epoch 23/50\n",
            "13/13 [==============================] - 6s 461ms/step - loss: 0.1661 - accuracy: 0.9539 - val_loss: 0.2414 - val_accuracy: 0.9104\n",
            "Epoch 24/50\n",
            "13/13 [==============================] - 6s 465ms/step - loss: 0.1527 - accuracy: 0.9572 - val_loss: 0.3488 - val_accuracy: 0.8433\n",
            "Epoch 25/50\n",
            "13/13 [==============================] - 6s 461ms/step - loss: 0.1487 - accuracy: 0.9584 - val_loss: 0.4552 - val_accuracy: 0.7612\n",
            "Epoch 26/50\n",
            "13/13 [==============================] - 6s 455ms/step - loss: 0.1275 - accuracy: 0.9499 - val_loss: 0.2331 - val_accuracy: 0.9030\n",
            "Epoch 27/50\n",
            "13/13 [==============================] - 6s 458ms/step - loss: 0.1536 - accuracy: 0.9631 - val_loss: 0.2714 - val_accuracy: 0.8806\n",
            "Epoch 28/50\n",
            "13/13 [==============================] - 6s 456ms/step - loss: 0.1557 - accuracy: 0.9345 - val_loss: 0.2250 - val_accuracy: 0.9104\n",
            "Epoch 29/50\n",
            "13/13 [==============================] - 6s 460ms/step - loss: 0.1113 - accuracy: 0.9675 - val_loss: 0.2327 - val_accuracy: 0.9179\n",
            "Epoch 30/50\n",
            "13/13 [==============================] - 6s 455ms/step - loss: 0.1087 - accuracy: 0.9644 - val_loss: 0.2164 - val_accuracy: 0.9179\n",
            "Epoch 31/50\n",
            "13/13 [==============================] - 6s 455ms/step - loss: 0.1046 - accuracy: 0.9629 - val_loss: 0.2560 - val_accuracy: 0.9104\n",
            "Epoch 32/50\n",
            "13/13 [==============================] - 6s 459ms/step - loss: 0.1236 - accuracy: 0.9603 - val_loss: 0.2128 - val_accuracy: 0.9179\n",
            "Epoch 33/50\n",
            "13/13 [==============================] - 6s 460ms/step - loss: 0.1210 - accuracy: 0.9684 - val_loss: 0.2470 - val_accuracy: 0.9030\n",
            "Epoch 34/50\n",
            "13/13 [==============================] - 6s 460ms/step - loss: 0.2095 - accuracy: 0.9141 - val_loss: 0.2091 - val_accuracy: 0.9328\n",
            "Epoch 35/50\n",
            "13/13 [==============================] - 6s 461ms/step - loss: 0.1125 - accuracy: 0.9726 - val_loss: 0.2280 - val_accuracy: 0.9179\n",
            "Epoch 36/50\n",
            "13/13 [==============================] - 6s 471ms/step - loss: 0.1220 - accuracy: 0.9635 - val_loss: 0.2473 - val_accuracy: 0.9179\n",
            "Epoch 37/50\n",
            "13/13 [==============================] - 6s 461ms/step - loss: 0.1065 - accuracy: 0.9612 - val_loss: 0.3386 - val_accuracy: 0.8358\n",
            "Epoch 38/50\n",
            "13/13 [==============================] - 6s 459ms/step - loss: 0.0894 - accuracy: 0.9715 - val_loss: 0.2534 - val_accuracy: 0.8881\n",
            "Epoch 39/50\n",
            "13/13 [==============================] - 6s 461ms/step - loss: 0.0945 - accuracy: 0.9768 - val_loss: 0.2622 - val_accuracy: 0.9030\n",
            "Epoch 40/50\n",
            "13/13 [==============================] - 6s 462ms/step - loss: 0.0812 - accuracy: 0.9762 - val_loss: 0.3475 - val_accuracy: 0.8358\n",
            "Epoch 41/50\n",
            "13/13 [==============================] - 6s 461ms/step - loss: 0.1136 - accuracy: 0.9628 - val_loss: 0.1899 - val_accuracy: 0.9478\n",
            "Epoch 42/50\n",
            "13/13 [==============================] - 6s 463ms/step - loss: 0.0988 - accuracy: 0.9750 - val_loss: 0.2595 - val_accuracy: 0.8806\n",
            "Epoch 43/50\n",
            "13/13 [==============================] - 6s 463ms/step - loss: 0.0770 - accuracy: 0.9774 - val_loss: 0.2246 - val_accuracy: 0.9179\n",
            "Epoch 44/50\n",
            "13/13 [==============================] - 6s 459ms/step - loss: 0.0777 - accuracy: 0.9887 - val_loss: 0.2348 - val_accuracy: 0.9030\n",
            "Epoch 45/50\n",
            "13/13 [==============================] - 6s 458ms/step - loss: 0.0732 - accuracy: 0.9905 - val_loss: 0.3267 - val_accuracy: 0.8507\n",
            "Epoch 46/50\n",
            "13/13 [==============================] - 6s 460ms/step - loss: 0.1050 - accuracy: 0.9596 - val_loss: 0.1963 - val_accuracy: 0.9254\n",
            "Epoch 47/50\n",
            "13/13 [==============================] - 6s 461ms/step - loss: 0.0911 - accuracy: 0.9813 - val_loss: 0.1826 - val_accuracy: 0.9179\n",
            "Epoch 48/50\n",
            "13/13 [==============================] - 6s 466ms/step - loss: 0.0905 - accuracy: 0.9834 - val_loss: 0.1953 - val_accuracy: 0.9328\n",
            "Epoch 49/50\n",
            "13/13 [==============================] - 6s 463ms/step - loss: 0.0705 - accuracy: 0.9750 - val_loss: 0.2030 - val_accuracy: 0.9254\n",
            "Epoch 50/50\n",
            "13/13 [==============================] - 6s 465ms/step - loss: 0.0930 - accuracy: 0.9680 - val_loss: 0.3098 - val_accuracy: 0.8433\n"
          ],
          "name": "stdout"
        }
      ]
    },
    {
      "cell_type": "code",
      "metadata": {
        "colab": {
          "base_uri": "https://localhost:8080/",
          "height": 531
        },
        "id": "ybmGfLt1zZIt",
        "outputId": "45681113-e82e-4d27-ad2c-e033bdf5a7e5"
      },
      "source": [
        "# plot the loss\n",
        "plt.plot(r.history['loss'], label='train loss')\n",
        "plt.plot(r.history['val_loss'], label='val loss')\n",
        "plt.legend()\n",
        "plt.show()\n",
        "plt.savefig('LossVal_loss')\n",
        "\n",
        "# plot the accuracy\n",
        "plt.plot(r.history['accuracy'], label='train acc')\n",
        "plt.plot(r.history['val_accuracy'], label='val acc')\n",
        "plt.legend()\n",
        "plt.show()\n",
        "plt.savefig('AccVal_acc')"
      ],
      "execution_count": 18,
      "outputs": [
        {
          "output_type": "display_data",
          "data": {
            "image/png": "[encoded data removed]",
            "text/plain": [
              "<Figure size 432x288 with 1 Axes>"
            ]
          },
          "metadata": {
            "tags": [],
            "needs_background": "light"
          }
        },
        {
          "output_type": "display_data",
          "data": {
            "image/png": "[encoded data removed]",
            "text/plain": [
              "<Figure size 432x288 with 1 Axes>"
            ]
          },
          "metadata": {
            "tags": [],
            "needs_background": "light"
          }
        },
        {
          "output_type": "display_data",
          "data": {
            "text/plain": [
              "<Figure size 432x288 with 0 Axes>"
            ]
          },
          "metadata": {
            "tags": []
          }
        }
      ]
    },
    {
      "cell_type": "code",
      "metadata": {
        "id": "vnPhw7T0zZIv"
      },
      "source": [
        "# save it as a h5 file\n",
        "\n",
        "\n",
        "from tensorflow.keras.models import load_model\n",
        "\n",
        "model.save('model_vgg19.h5')"
      ],
      "execution_count": 19,
      "outputs": []
    },
    {
      "cell_type": "code",
      "metadata": {
        "id": "nnK-5ufRzZIx"
      },
      "source": [
        "\n",
        "y_pred = model.predict(test_set)\n"
      ],
      "execution_count": 20,
      "outputs": []
    },
    {
      "cell_type": "code",
      "metadata": {
        "colab": {
          "base_uri": "https://localhost:8080/"
        },
        "id": "K-04F8XLzZIx",
        "outputId": "31548fb1-698a-4b0d-ec52-d74f1e0bff5a"
      },
      "source": [
        "y_pred"
      ],
      "execution_count": 21,
      "outputs": [
        {
          "output_type": "execute_result",
          "data": {
            "text/plain": [
              "array([[7.12675452e-01, 2.87324548e-01],\n",
              "       [4.67294395e-01, 5.32705605e-01],\n",
              "       [7.70126820e-01, 2.29873180e-01],\n",
              "       [6.52316213e-01, 3.47683728e-01],\n",
              "       [9.99134004e-01, 8.66079237e-04],\n",
              "       [9.99051034e-01, 9.48913686e-04],\n",
              "       [9.01340544e-01, 9.86594632e-02],\n",
              "       [9.99747932e-01, 2.52076628e-04],\n",
              "       [6.25096381e-01, 3.74903589e-01],\n",
              "       [4.10250753e-01, 5.89749277e-01],\n",
              "       [1.29271401e-02, 9.87072825e-01],\n",
              "       [1.28291547e-02, 9.87170875e-01],\n",
              "       [9.76993740e-01, 2.30062362e-02],\n",
              "       [9.51907218e-01, 4.80927639e-02],\n",
              "       [9.32631195e-01, 6.73688427e-02],\n",
              "       [8.20541084e-01, 1.79458886e-01],\n",
              "       [4.58373576e-01, 5.41626394e-01],\n",
              "       [7.50604039e-03, 9.92493987e-01],\n",
              "       [9.99797046e-01, 2.02937619e-04],\n",
              "       [9.98408973e-01, 1.59108965e-03],\n",
              "       [3.88823420e-01, 6.11176610e-01],\n",
              "       [3.54383476e-02, 9.64561582e-01],\n",
              "       [1.40426368e-01, 8.59573603e-01],\n",
              "       [9.84676257e-02, 9.01532352e-01],\n",
              "       [5.95745921e-01, 4.04254019e-01],\n",
              "       [2.94864643e-02, 9.70513582e-01],\n",
              "       [9.79910731e-01, 2.00893395e-02],\n",
              "       [5.35423942e-02, 9.46457624e-01],\n",
              "       [9.93615627e-01, 6.38433266e-03],\n",
              "       [8.00486207e-02, 9.19951379e-01],\n",
              "       [2.23427135e-02, 9.77657259e-01],\n",
              "       [9.98883188e-01, 1.11682143e-03],\n",
              "       [5.86081266e-01, 4.13918734e-01],\n",
              "       [9.96592939e-01, 3.40702967e-03],\n",
              "       [2.77633041e-01, 7.22366929e-01],\n",
              "       [2.48844922e-01, 7.51155019e-01],\n",
              "       [1.01345582e-02, 9.89865482e-01],\n",
              "       [5.80061138e-01, 4.19938862e-01],\n",
              "       [1.08102545e-01, 8.91897500e-01],\n",
              "       [9.73994792e-01, 2.60052625e-02],\n",
              "       [6.74592495e-01, 3.25407535e-01],\n",
              "       [1.66679714e-02, 9.83332038e-01],\n",
              "       [4.23323661e-01, 5.76676369e-01],\n",
              "       [2.77323648e-02, 9.72267568e-01],\n",
              "       [4.58550528e-02, 9.54145014e-01],\n",
              "       [9.98281479e-01, 1.71850889e-03],\n",
              "       [9.98681366e-01, 1.31863833e-03],\n",
              "       [1.14162192e-02, 9.88583803e-01],\n",
              "       [9.99985337e-01, 1.46964830e-05],\n",
              "       [5.37765145e-01, 4.62234825e-01],\n",
              "       [9.97521222e-01, 2.47879862e-03],\n",
              "       [1.57792941e-01, 8.42207074e-01],\n",
              "       [7.73829103e-01, 2.26170897e-01],\n",
              "       [9.99536037e-01, 4.64000681e-04],\n",
              "       [1.11131765e-01, 8.88868272e-01],\n",
              "       [9.98118162e-01, 1.88186252e-03],\n",
              "       [7.60266840e-01, 2.39733174e-01],\n",
              "       [9.99896407e-01, 1.03572151e-04],\n",
              "       [5.54299414e-01, 4.45700526e-01],\n",
              "       [7.53247887e-02, 9.24675167e-01],\n",
              "       [1.42649010e-01, 8.57350945e-01],\n",
              "       [2.89406143e-02, 9.71059382e-01],\n",
              "       [2.05354411e-02, 9.79464591e-01],\n",
              "       [7.41812706e-01, 2.58187324e-01],\n",
              "       [9.97021139e-01, 2.97880289e-03],\n",
              "       [3.33903193e-01, 6.66096866e-01],\n",
              "       [3.27942185e-02, 9.67205822e-01],\n",
              "       [9.64613110e-02, 9.03538704e-01],\n",
              "       [9.99967217e-01, 3.28085989e-05],\n",
              "       [9.58780766e-01, 4.12192680e-02],\n",
              "       [5.09979486e-01, 4.90020514e-01],\n",
              "       [9.99970078e-01, 2.99002440e-05],\n",
              "       [3.29222605e-02, 9.67077732e-01],\n",
              "       [1.90922674e-02, 9.80907738e-01],\n",
              "       [5.74167632e-02, 9.42583203e-01],\n",
              "       [9.99165177e-01, 8.34790233e-04],\n",
              "       [4.92268652e-01, 5.07731378e-01],\n",
              "       [1.32519091e-02, 9.86748099e-01],\n",
              "       [3.71510059e-01, 6.28489971e-01],\n",
              "       [9.99983311e-01, 1.67098497e-05],\n",
              "       [6.36595309e-01, 3.63404691e-01],\n",
              "       [2.76693981e-02, 9.72330570e-01],\n",
              "       [5.04660308e-02, 9.49533999e-01],\n",
              "       [9.99619722e-01, 3.80291109e-04],\n",
              "       [8.46181214e-01, 1.53818846e-01],\n",
              "       [5.76013446e-01, 4.23986524e-01],\n",
              "       [9.99667168e-01, 3.32813303e-04],\n",
              "       [9.99466717e-01, 5.33293874e-04],\n",
              "       [9.99657750e-01, 3.42254469e-04],\n",
              "       [3.81920524e-02, 9.61807966e-01],\n",
              "       [9.99999881e-01, 1.58752400e-07],\n",
              "       [4.05442268e-02, 9.59455729e-01],\n",
              "       [9.96498585e-01, 3.50141642e-03],\n",
              "       [7.89354265e-01, 2.10645735e-01],\n",
              "       [7.43902206e-01, 2.56097823e-01],\n",
              "       [8.35516453e-01, 1.64483503e-01],\n",
              "       [9.51596618e-01, 4.84033078e-02],\n",
              "       [3.18929218e-02, 9.68107045e-01],\n",
              "       [4.60576750e-02, 9.53942299e-01],\n",
              "       [9.87698019e-01, 1.23019740e-02],\n",
              "       [9.76067603e-01, 2.39324458e-02],\n",
              "       [7.14584813e-02, 9.28541481e-01],\n",
              "       [3.27042311e-01, 6.72957659e-01],\n",
              "       [8.65366459e-01, 1.34633586e-01],\n",
              "       [5.62296528e-03, 9.94376957e-01],\n",
              "       [9.96663749e-01, 3.33617115e-03],\n",
              "       [4.84057255e-02, 9.51594293e-01],\n",
              "       [9.96893287e-01, 3.10673937e-03],\n",
              "       [9.77097869e-01, 2.29021013e-02],\n",
              "       [3.13693061e-02, 9.68630672e-01],\n",
              "       [2.85907984e-01, 7.14092076e-01],\n",
              "       [9.82699037e-01, 1.73008982e-02],\n",
              "       [3.57050709e-02, 9.64294910e-01],\n",
              "       [4.87324357e-01, 5.12675643e-01],\n",
              "       [1.56440005e-01, 8.43560040e-01],\n",
              "       [6.13383763e-03, 9.93866146e-01],\n",
              "       [1.64824072e-02, 9.83517528e-01],\n",
              "       [2.85963081e-02, 9.71403658e-01],\n",
              "       [9.39125717e-01, 6.08742535e-02],\n",
              "       [6.00715429e-02, 9.39928472e-01],\n",
              "       [9.99994159e-01, 5.86207079e-06],\n",
              "       [9.52087224e-01, 4.79127951e-02],\n",
              "       [9.99571383e-01, 4.28571453e-04],\n",
              "       [2.69874055e-02, 9.73012567e-01],\n",
              "       [9.95391130e-01, 4.60887467e-03],\n",
              "       [1.89873539e-02, 9.81012702e-01],\n",
              "       [6.22316189e-02, 9.37768340e-01],\n",
              "       [9.02725458e-01, 9.72744897e-02],\n",
              "       [1.81392375e-02, 9.81860757e-01],\n",
              "       [9.98811841e-01, 1.18818949e-03],\n",
              "       [1.00000000e+00, 5.81279203e-08],\n",
              "       [9.98544335e-01, 1.45571295e-03],\n",
              "       [2.09962144e-01, 7.90037870e-01],\n",
              "       [9.09808278e-01, 9.01917294e-02]], dtype=float32)"
            ]
          },
          "metadata": {
            "tags": []
          },
          "execution_count": 21
        }
      ]
    },
    {
      "cell_type": "code",
      "metadata": {
        "id": "wfD_SrRZzZIz"
      },
      "source": [
        "import numpy as np\n",
        "y_pred = np.argmax(y_pred, axis=1)"
      ],
      "execution_count": 22,
      "outputs": []
    },
    {
      "cell_type": "code",
      "metadata": {
        "colab": {
          "base_uri": "https://localhost:8080/"
        },
        "id": "AOAfPi36zZI1",
        "outputId": "43069300-ee51-4de0-c644-b92382d2bb39"
      },
      "source": [
        "y_pred"
      ],
      "execution_count": 23,
      "outputs": [
        {
          "output_type": "execute_result",
          "data": {
            "text/plain": [
              "array([0, 1, 0, 0, 0, 0, 0, 0, 0, 1, 1, 1, 0, 0, 0, 0, 1, 1, 0, 0, 1, 1,\n",
              "       1, 1, 0, 1, 0, 1, 0, 1, 1, 0, 0, 0, 1, 1, 1, 0, 1, 0, 0, 1, 1, 1,\n",
              "       1, 0, 0, 1, 0, 0, 0, 1, 0, 0, 1, 0, 0, 0, 0, 1, 1, 1, 1, 0, 0, 1,\n",
              "       1, 1, 0, 0, 0, 0, 1, 1, 1, 0, 1, 1, 1, 0, 0, 1, 1, 0, 0, 0, 0, 0,\n",
              "       0, 1, 0, 1, 0, 0, 0, 0, 0, 1, 1, 0, 0, 1, 1, 0, 1, 0, 1, 0, 0, 1,\n",
              "       1, 0, 1, 1, 1, 1, 1, 1, 0, 1, 0, 0, 0, 1, 0, 1, 1, 0, 1, 0, 0, 0,\n",
              "       1, 0])"
            ]
          },
          "metadata": {
            "tags": []
          },
          "execution_count": 23
        }
      ]
    },
    {
      "cell_type": "code",
      "metadata": {
        "id": "ADwyRpuBzZI4"
      },
      "source": [
        "from tensorflow.keras.models import load_model\n",
        "from tensorflow.keras.preprocessing import image"
      ],
      "execution_count": 24,
      "outputs": []
    },
    {
      "cell_type": "code",
      "metadata": {
        "id": "UNtSu9mizZI5"
      },
      "source": [
        "model=load_model('model_vgg19.h5')"
      ],
      "execution_count": 25,
      "outputs": []
    },
    {
      "cell_type": "code",
      "metadata": {
        "id": "8KgPiYcLzZI7"
      },
      "source": [
        "img=image.load_img('/content/drive/MyDrive/DL_projects/Malaria detection/Dataset/Test/Uninfected/2.png',target_size=(224,224))\n",
        "\n"
      ],
      "execution_count": 27,
      "outputs": []
    },
    {
      "cell_type": "code",
      "metadata": {
        "colab": {
          "base_uri": "https://localhost:8080/"
        },
        "id": "MbTtKCpzzZI9",
        "outputId": "1a75a242-a117-4899-c922-42f5deb4994d"
      },
      "source": [
        "x=image.img_to_array(img)\n",
        "x"
      ],
      "execution_count": 28,
      "outputs": [
        {
          "output_type": "execute_result",
          "data": {
            "text/plain": [
              "array([[[0., 0., 0.],\n",
              "        [0., 0., 0.],\n",
              "        [0., 0., 0.],\n",
              "        ...,\n",
              "        [0., 0., 0.],\n",
              "        [0., 0., 0.],\n",
              "        [0., 0., 0.]],\n",
              "\n",
              "       [[0., 0., 0.],\n",
              "        [0., 0., 0.],\n",
              "        [0., 0., 0.],\n",
              "        ...,\n",
              "        [0., 0., 0.],\n",
              "        [0., 0., 0.],\n",
              "        [0., 0., 0.]],\n",
              "\n",
              "       [[0., 0., 0.],\n",
              "        [0., 0., 0.],\n",
              "        [0., 0., 0.],\n",
              "        ...,\n",
              "        [0., 0., 0.],\n",
              "        [0., 0., 0.],\n",
              "        [0., 0., 0.]],\n",
              "\n",
              "       ...,\n",
              "\n",
              "       [[0., 0., 0.],\n",
              "        [0., 0., 0.],\n",
              "        [0., 0., 0.],\n",
              "        ...,\n",
              "        [0., 0., 0.],\n",
              "        [0., 0., 0.],\n",
              "        [0., 0., 0.]],\n",
              "\n",
              "       [[0., 0., 0.],\n",
              "        [0., 0., 0.],\n",
              "        [0., 0., 0.],\n",
              "        ...,\n",
              "        [0., 0., 0.],\n",
              "        [0., 0., 0.],\n",
              "        [0., 0., 0.]],\n",
              "\n",
              "       [[0., 0., 0.],\n",
              "        [0., 0., 0.],\n",
              "        [0., 0., 0.],\n",
              "        ...,\n",
              "        [0., 0., 0.],\n",
              "        [0., 0., 0.],\n",
              "        [0., 0., 0.]]], dtype=float32)"
            ]
          },
          "metadata": {
            "tags": []
          },
          "execution_count": 28
        }
      ]
    },
    {
      "cell_type": "code",
      "metadata": {
        "colab": {
          "base_uri": "https://localhost:8080/"
        },
        "id": "cWU1HY_vzZI_",
        "outputId": "26a14f87-45de-4f30-d4d8-d57a41e7613f"
      },
      "source": [
        "x.shape"
      ],
      "execution_count": 29,
      "outputs": [
        {
          "output_type": "execute_result",
          "data": {
            "text/plain": [
              "(224, 224, 3)"
            ]
          },
          "metadata": {
            "tags": []
          },
          "execution_count": 29
        }
      ]
    },
    {
      "cell_type": "code",
      "metadata": {
        "id": "i2jzwAFizZJB"
      },
      "source": [
        "x=x/255"
      ],
      "execution_count": 30,
      "outputs": []
    },
    {
      "cell_type": "code",
      "metadata": {
        "colab": {
          "base_uri": "https://localhost:8080/"
        },
        "id": "UlPDVJp1zZJB",
        "outputId": "ef2c4ea6-d396-4d76-82af-9f4b7794c5d7"
      },
      "source": [
        "x=np.expand_dims(x,axis=0)\n",
        "img_data=preprocess_input(x)\n",
        "img_data.shape"
      ],
      "execution_count": 31,
      "outputs": [
        {
          "output_type": "execute_result",
          "data": {
            "text/plain": [
              "(1, 224, 224, 3)"
            ]
          },
          "metadata": {
            "tags": []
          },
          "execution_count": 31
        }
      ]
    },
    {
      "cell_type": "code",
      "metadata": {
        "colab": {
          "base_uri": "https://localhost:8080/"
        },
        "id": "5ROhBrY2zZJD",
        "outputId": "b3ea5e52-f888-4e0f-f7a6-d8bbafa69e90"
      },
      "source": [
        "model.predict(img_data)"
      ],
      "execution_count": 32,
      "outputs": [
        {
          "output_type": "execute_result",
          "data": {
            "text/plain": [
              "array([[0.15357511, 0.8464249 ]], dtype=float32)"
            ]
          },
          "metadata": {
            "tags": []
          },
          "execution_count": 32
        }
      ]
    },
    {
      "cell_type": "code",
      "metadata": {
        "id": "jrPP2tR7zZJF"
      },
      "source": [
        "a=np.argmax(model.predict(img_data), axis=1)"
      ],
      "execution_count": 33,
      "outputs": []
    },
    {
      "cell_type": "code",
      "metadata": {
        "colab": {
          "base_uri": "https://localhost:8080/"
        },
        "id": "PFRKGVzQzZJG",
        "outputId": "4383c8f6-b40e-4983-f7cf-8b2d319ae402"
      },
      "source": [
        "if(a==1):\n",
        "    print(\"Uninfected\")\n",
        "else:\n",
        "    print(\"Infected\")"
      ],
      "execution_count": 34,
      "outputs": [
        {
          "output_type": "stream",
          "text": [
            "Uninfected\n"
          ],
          "name": "stdout"
        }
      ]
    }
  ]
}